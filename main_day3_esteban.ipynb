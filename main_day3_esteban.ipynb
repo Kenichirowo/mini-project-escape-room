{
 "cells": [
  {
   "cell_type": "code",
   "execution_count": 1,
   "metadata": {
    "colab": {
     "base_uri": "https://localhost:8080/"
    },
    "executionInfo": {
     "elapsed": 264,
     "status": "ok",
     "timestamp": 1736959349476,
     "user": {
      "displayName": "Esteban Basili",
      "userId": "09903475683337342556"
     },
     "user_tz": -60
    },
    "id": "ctxcqBv6zBNe",
    "outputId": "61d510a4-13aa-482d-e63f-b10668160ca8"
   },
   "outputs": [],
   "source": [
    "%load_ext autoreload\n",
    "%autoreload 2\n",
    "\n",
    "import objects\n",
    "import functions"
   ]
  },
  {
   "cell_type": "code",
   "execution_count": 2,
   "metadata": {
    "colab": {
     "base_uri": "https://localhost:8080/",
     "height": 211
    },
    "executionInfo": {
     "elapsed": 18,
     "status": "error",
     "timestamp": 1736958612040,
     "user": {
      "displayName": "Esteban Basili",
      "userId": "09903475683337342556"
     },
     "user_tz": -60
    },
    "id": "8mzEuoESXrG3",
    "outputId": "1bc806b5-6143-44a0-f374-8f5e9d231d7a"
   },
   "outputs": [],
   "source": [
    "\n",
    "# define game state. Do not directly change this dict.\n",
    "# Instead, when a new game starts, make a copy of this\n",
    "# dict and use the copy to store gameplay state. This\n",
    "# way you can replay the game multiple times.\n",
    "\n",
    "INIT_GAME_STATE = {\n",
    "    \"current_room\": objects.game_room,\n",
    "    \"keys_collected\": [],\n",
    "    \"target_room\": objects.outside\n",
    "}\n",
    "\n",
    "game_state = INIT_GAME_STATE.copy()"
   ]
  },
  {
   "cell_type": "code",
   "execution_count": 3,
   "metadata": {
    "executionInfo": {
     "elapsed": 16,
     "status": "aborted",
     "timestamp": 1736958612042,
     "user": {
      "displayName": "Esteban Basili",
      "userId": "09903475683337342556"
     },
     "user_tz": -60
    },
    "id": "IEYSY--mXrHB"
   },
   "outputs": [
    {
     "name": "stdout",
     "output_type": "stream",
     "text": [
      "You wake up on a couch and find yourself in a strange house with no windows which you have never been to before. You don't remember why you are here and what had happened before. You feel some unknown danger is approaching and you must get out of the house, NOW!\n",
      "You are now in game room\n",
      "Not sure what you mean. Type 'explore' or 'examine'.\n",
      "You are now in game room\n",
      "You explore the room. This is game room. You find couch, piano, door a\n",
      "You are now in game room\n",
      "You explore the room. This is game room. You find couch, piano, door a\n",
      "You are now in game room\n",
      "The item you requested is not found in the current room.\n",
      "\n",
      "\n",
      "\n",
      "\n",
      "\n",
      "\n",
      "\n",
      "\n",
      "\n",
      "\n",
      "\n",
      "\n"
     ]
    }
   ],
   "source": [
    "functions.start_game(game_state)"
   ]
  }
 ],
 "metadata": {
  "colab": {
   "provenance": [
    {
     "file_id": "1y3h9UWhUwIXVzRbuQOxMeV5ShL9m9_kY",
     "timestamp": 1736869545115
    }
   ]
  },
  "kernelspec": {
   "display_name": "Python 3",
   "language": "python",
   "name": "python3"
  },
  "language_info": {
   "codemirror_mode": {
    "name": "ipython",
    "version": 3
   },
   "file_extension": ".py",
   "mimetype": "text/x-python",
   "name": "python",
   "nbconvert_exporter": "python",
   "pygments_lexer": "ipython3",
   "version": "3.13.1"
  }
 },
 "nbformat": 4,
 "nbformat_minor": 0
}
